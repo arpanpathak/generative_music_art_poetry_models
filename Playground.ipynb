{
 "cells": [
  {
   "cell_type": "code",
   "execution_count": 3,
   "id": "a720a5f1",
   "metadata": {},
   "outputs": [
    {
     "ename": "Error",
     "evalue": "Line 0, Character 10\nimport { MusicVAE } from '@magenta/music/node/music_vae'\n_________^\nTS2300: Duplicate identifier 'MusicVAE'.\n\nLine 1, Character 10\nimport { MusicVAE } from '@magenta/music/node/music_vae'\n_________^\nTS2300: Duplicate identifier 'MusicVAE'.",
     "output_type": "error",
     "traceback": [
      "Error: Line 0, Character 10",
      "import { MusicVAE } from '@magenta/music/node/music_vae'",
      "_________^",
      "TS2300: Duplicate identifier 'MusicVAE'.",
      "",
      "Line 1, Character 10",
      "import { MusicVAE } from '@magenta/music/node/music_vae'",
      "_________^",
      "TS2300: Duplicate identifier 'MusicVAE'.",
      "    at execTranspile (/usr/local/lib/node_modules/itypescript/lib/kernel.js:229:23)",
      "    at Session.transpiler [as transpile] (/usr/local/lib/node_modules/itypescript/lib/kernel.js:288:35)",
      "    at Session._runNow (/usr/local/lib/node_modules/itypescript/node_modules/nel/lib/nel.js:835:39)",
      "    at Session._run (/usr/local/lib/node_modules/itypescript/node_modules/nel/lib/nel.js:786:14)",
      "    at Session.execute (/usr/local/lib/node_modules/itypescript/node_modules/nel/lib/nel.js:929:10)",
      "    at Kernel.execute_request (/usr/local/lib/node_modules/itypescript/node_modules/jp-kernel/lib/handlers_v5.js:116:18)",
      "    at Kernel.onShellMessage (/usr/local/lib/node_modules/itypescript/node_modules/jp-kernel/lib/jp-kernel.js:285:41)",
      "    at Socket.<anonymous> (/usr/local/lib/node_modules/itypescript/node_modules/jmp/index.js:350:17)",
      "    at Socket.emit (events.js:315:20)",
      "    at Socket._emitMessage (/usr/local/lib/node_modules/itypescript/node_modules/zeromq/lib/index.js:649:15)"
     ]
    }
   ],
   "source": [
    "import { MusicVAE } from '@magenta/music/node/music_vae'\n",
    "import { Player } from '@magenta/music/node/core'"
   ]
  },
  {
   "cell_type": "code",
   "execution_count": null,
   "id": "1dc21c30",
   "metadata": {},
   "outputs": [],
   "source": []
  }
 ],
 "metadata": {
  "kernelspec": {
   "display_name": "Typescript 4.8",
   "language": "typescript",
   "name": "typescript"
  },
  "language_info": {
   "file_extension": ".ts",
   "mimetype": "application/x-typescript",
   "name": "typescript",
   "version": "4.8.2"
  }
 },
 "nbformat": 4,
 "nbformat_minor": 5
}
