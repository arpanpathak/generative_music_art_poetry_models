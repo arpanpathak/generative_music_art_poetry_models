{
 "cells": [
  {
   "cell_type": "code",
   "execution_count": 9,
   "id": "a720a5f1",
   "metadata": {},
   "outputs": [],
   "source": [
    "import { MusicVAE } from '@magenta/music/node/music_vae'\n",
    "import { Player } from '@magenta/music/node/core'\n",
    "import Meyda from 'meyda'"
   ]
  },
  {
   "cell_type": "code",
   "execution_count": 10,
   "id": "1dc21c30",
   "metadata": {},
   "outputs": [
    {
     "name": "stdout",
     "output_type": "stream",
     "text": [
      "[\n",
      "  \u001b[33m1\u001b[39m, \u001b[33m0\u001b[39m, \u001b[33m-1\u001b[39m, \u001b[33m1\u001b[39m, \u001b[33m0\u001b[39m, \u001b[33m-1\u001b[39m, \u001b[33m1\u001b[39m, \u001b[33m0\u001b[39m, \u001b[33m-1\u001b[39m,\n",
      "  \u001b[33m1\u001b[39m, \u001b[33m0\u001b[39m, \u001b[33m-1\u001b[39m, \u001b[33m1\u001b[39m, \u001b[33m0\u001b[39m, \u001b[33m-1\u001b[39m, \u001b[33m1\u001b[39m, \u001b[33m0\u001b[39m, \u001b[33m-1\u001b[39m,\n",
      "  \u001b[33m1\u001b[39m, \u001b[33m0\u001b[39m, \u001b[33m-1\u001b[39m, \u001b[33m1\u001b[39m, \u001b[33m0\u001b[39m, \u001b[33m-1\u001b[39m, \u001b[33m1\u001b[39m, \u001b[33m0\u001b[39m, \u001b[33m-1\u001b[39m,\n",
      "  \u001b[33m1\u001b[39m, \u001b[33m0\u001b[39m, \u001b[33m-1\u001b[39m, \u001b[33m1\u001b[39m, \u001b[33m0\u001b[39m\n",
      "]\n"
     ]
    }
   ],
   "source": [
    "const signal = new Array(32).fill(0).map((element, index) => {\n",
    "  const remainder = index % 3;\n",
    "  if (remainder === 0) {\n",
    "    return 1;\n",
    "  } else if (remainder === 1) {\n",
    "    return 0;\n",
    "  }\n",
    "  return -1;\n",
    "});\n",
    "\n",
    "signal"
   ]
  },
  {
   "cell_type": "code",
   "execution_count": 11,
   "id": "cb221ea3",
   "metadata": {},
   "outputs": [
    {
     "name": "stdout",
     "output_type": "stream",
     "text": [
      "\u001b[33m20\u001b[39m\n"
     ]
    }
   ],
   "source": [
    "Meyda.extract(\"zcr\", signal);"
   ]
  }
 ],
 "metadata": {
  "kernelspec": {
   "display_name": "TypeScript",
   "language": "typescript",
   "name": "tslab"
  },
  "language_info": {
   "codemirror_mode": {
    "mode": "typescript",
    "name": "javascript",
    "typescript": true
   },
   "file_extension": ".ts",
   "mimetype": "text/typescript",
   "name": "typescript",
   "version": "3.7.2"
  }
 },
 "nbformat": 4,
 "nbformat_minor": 5
}
